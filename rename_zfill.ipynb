{
 "cells": [
  {
   "cell_type": "code",
   "execution_count": 24,
   "metadata": {},
   "outputs": [
    {
     "data": {
      "text/plain": [
       "['.DS_Store',\n",
       " 'page_0000_name.png',\n",
       " 'page_0001_name.png',\n",
       " 'page_0002_name.png',\n",
       " 'page_0003_name.png',\n",
       " 'page_0004_name.png',\n",
       " 'page_0005_name.png',\n",
       " 'page_0006_name.png',\n",
       " 'page_0007_name.png',\n",
       " 'page_0008_name.png',\n",
       " 'page_0009_name.png',\n",
       " 'page_0010_name.png',\n",
       " 'page_0011_name.png',\n",
       " 'page_0012_name.png',\n",
       " 'page_0013_name.png',\n",
       " 'page_0014_name.png',\n",
       " 'page_0015_name.png',\n",
       " 'page_0016_name.png',\n",
       " 'page_0017_name.png',\n",
       " 'page_0018_name.png',\n",
       " 'page_0019_name.png',\n",
       " 'page_0020_name.png',\n",
       " 'page_0021_name.png',\n",
       " 'page_0022_name.png',\n",
       " 'page_0023_name.png',\n",
       " 'page_0024_name.png',\n",
       " 'page_0025_name.png',\n",
       " 'page_0026_name.png',\n",
       " 'page_0027_name.png',\n",
       " 'page_0028_name.png',\n",
       " 'page_0029_name.png',\n",
       " 'page_0030_name.png',\n",
       " 'page_0031_name.png',\n",
       " 'page_0032_name.png',\n",
       " 'page_0033_name.png',\n",
       " 'page_0034_name.png',\n",
       " 'page_0035_name.png',\n",
       " 'page_0036_name.png',\n",
       " 'page_0037_name.png',\n",
       " 'page_0038_name.png',\n",
       " 'page_0039_name.png',\n",
       " 'page_0040_name.png',\n",
       " 'page_0041_name.png',\n",
       " 'page_0042_name.png',\n",
       " 'page_0043_name.png',\n",
       " 'page_0044_name.png',\n",
       " 'page_0045_name.png',\n",
       " 'page_0046_name.png',\n",
       " 'page_0047_name.png',\n",
       " 'page_0048_name.png',\n",
       " 'page_0049_name.png',\n",
       " 'page_0050_name.png',\n",
       " 'page_0051_name.png',\n",
       " 'page_0052_name.png',\n",
       " 'page_0053_name.png',\n",
       " 'page_0054_name.png',\n",
       " 'page_0055_name.png',\n",
       " 'page_0056_name.png',\n",
       " 'page_0057_name.png',\n",
       " 'page_0058_name.png',\n",
       " 'page_0059_name.png']"
      ]
     },
     "execution_count": 24,
     "metadata": {},
     "output_type": "execute_result"
    }
   ],
   "source": [
    "import os\n",
    "import re\n",
    "\n",
    "ROOT_DIR = 'page_scans/name_crops'\n",
    "for pn in os.listdir(ROOT_DIR):\n",
    "    if 'page_' not in pn:\n",
    "        continue\n",
    "    old_nm = os.path.join(ROOT_DIR, pn)\n",
    "    zf_num = re.search('\\d+', pn).group().zfill(4)\n",
    "    new_nm = os.path.join(ROOT_DIR, 'page_{}_name.png'.format(zf_num))\n",
    "    os.rename(old_nm, new_nm)\n",
    "\n",
    "sorted(os.listdir(ROOT_DIR))"
   ]
  }
 ],
 "metadata": {
  "kernelspec": {
   "display_name": "Python 3",
   "language": "python",
   "name": "python3"
  },
  "language_info": {
   "codemirror_mode": {
    "name": "ipython",
    "version": 3
   },
   "file_extension": ".py",
   "mimetype": "text/x-python",
   "name": "python",
   "nbconvert_exporter": "python",
   "pygments_lexer": "ipython3",
   "version": "3.7.6"
  }
 },
 "nbformat": 4,
 "nbformat_minor": 4
}
